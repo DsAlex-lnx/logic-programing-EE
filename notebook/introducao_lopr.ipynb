{
 "cells": [
  {
   "cell_type": "markdown",
   "metadata": {},
   "source": [
    "# LÓGICA DE PROGRAMAÇÃO"
   ]
  },
  {
   "cell_type": "markdown",
   "metadata": {},
   "source": [
    "## Introdução ao Python"
   ]
  },
  {
   "cell_type": "markdown",
   "metadata": {},
   "source": [
    "Python é uma linguagem de programação de alto nível, projetada com foco na simplicidade e legibilidade, o que a torna fácil de aprender e utilizar. Por ser uma linguagem interpretada, seu código é executado linha por linha, o que facilita a depuração e torna o processo de desenvolvimento mais ágil e eficiente. Graças a essas características, Python se tornou uma escolha popular entre iniciantes e desenvolvedores experientes em diversos campos, como ciência de dados, desenvolvimento web, automação e muito mais.  \n",
    "\n",
    "Se você deseja aprofundar seus conhecimentos, explore a documentação oficial de Python através do link abaixo:\n",
    "\n",
    "> [Documentação oficial do Python](https://docs.python.org/pt-br/3.13/)\n"
   ]
  },
  {
   "cell_type": "markdown",
   "metadata": {},
   "source": [
    "## Tipos de Dados Primitivos"
   ]
  },
  {
   "cell_type": "markdown",
   "metadata": {},
   "source": [
    "- `int` - números inteiros\n",
    "- `float` - números decimais\n",
    "- `str` - strings (cadeias de caracteres)\n",
    "- `bool` - booleanos (true ou false)"
   ]
  },
  {
   "cell_type": "markdown",
   "metadata": {},
   "source": [
    "O python é uma linguagem de tipagem dinâmica, o que significa que o tipo de uma variável é determinado no momento da atribuição. Ademais, cada variável pode ser reatribuída com um novo valor de qualquer tipo. "
   ]
  },
  {
   "cell_type": "code",
   "execution_count": 32,
   "metadata": {},
   "outputs": [
    {
     "data": {
      "text/plain": [
       "bool"
      ]
     },
     "execution_count": 32,
     "metadata": {},
     "output_type": "execute_result"
    }
   ],
   "source": [
    "# Exemplo:\n",
    "a = 10 # a é um inteiro\n",
    "a = \"Olá, mundo!\" # a agora é uma string\n",
    "a = 3.14 # a agora é um float\n",
    "a = True # a agora é um booleano\n",
    "\n",
    "\n",
    "# Podemos verificar o tipo de uma variável com a função `type()`\n",
    "type(a)\n"
   ]
  },
  {
   "cell_type": "markdown",
   "metadata": {},
   "source": [
    "## Entrada e Saída de Dados"
   ]
  },
  {
   "cell_type": "markdown",
   "metadata": {},
   "source": [
    "- `input()` - função que recebe a entrada do usuário. Por padrão, o valor retornado é uma string.\n",
    "- `print()` - função que exibe a saída do programa, pode ser utilizada para exibir mensagens, resultados e outras informações.\n",
    "\n"
   ]
  },
  {
   "cell_type": "code",
   "execution_count": 33,
   "metadata": {},
   "outputs": [
    {
     "name": "stdout",
     "output_type": "stream",
     "text": [
      "Olá, Alex!\n"
     ]
    }
   ],
   "source": [
    "# Exemplo:\n",
    "nome = input(\"Digite seu nome: \")\n",
    "print(\"Olá, \" + nome + \"!\") "
   ]
  },
  {
   "cell_type": "markdown",
   "metadata": {},
   "source": [
    "Existem outras formas de formatar a saída de dados, como:\n",
    "- `f-string` - utiliza o símbolo `f` antes da string e coloca as variáveis entre chaves.\n",
    "- `format()` - utiliza o método `format()` para inserir os valores nas posições desejadas.\n",
    "- `%` - utiliza o operador `%` para formatar a string.\n"
   ]
  },
  {
   "cell_type": "code",
   "execution_count": 34,
   "metadata": {},
   "outputs": [
    {
     "name": "stdout",
     "output_type": "stream",
     "text": [
      "Olá, João! Você tem 25 anos.\n",
      "Olá, João! Você tem 25 anos.\n",
      "Olá, João! Você tem 25 anos.\n"
     ]
    }
   ],
   "source": [
    "# Exemplo:\n",
    "nome = \"João\"\n",
    "idade = 25\n",
    "print(f\"Olá, {nome}! Você tem {idade} anos.\")\n",
    "print(\"Olá, {}! Você tem {} anos.\".format(nome, idade))\n",
    "print(\"Olá, %s! Você tem %d anos.\" % (nome, idade))\n"
   ]
  },
  {
   "cell_type": "markdown",
   "metadata": {},
   "source": [
    "> Eu particulamente gosto mais da utilização de f-string, pois é mais simples e de fácil leitura."
   ]
  },
  {
   "cell_type": "code",
   "execution_count": 35,
   "metadata": {},
   "outputs": [
    {
     "name": "stdout",
     "output_type": "stream",
     "text": [
      "Olá, João! Você tem 25 anos.\n"
     ]
    }
   ],
   "source": [
    "print(f\"Olá, {nome}! Você tem {idade} anos.\")"
   ]
  },
  {
   "cell_type": "markdown",
   "metadata": {},
   "source": [
    "Tambem podemos utilizar a função `input()` para receber valores numéricos e convertê-los para o tipo desejado.\n",
    "Para isso, podemos utilizar as funções `int()`, `float()` e `bool()`, que convertem o valor para o tipo inteiro, flutuante e booleano, respectivamente."
   ]
  },
  {
   "cell_type": "code",
   "execution_count": 36,
   "metadata": {},
   "outputs": [
    {
     "name": "stdout",
     "output_type": "stream",
     "text": [
      "Você tem 18 anos.\n"
     ]
    }
   ],
   "source": [
    "# Podemos utilizar a função `input()` para receber valores numéricos e convertê-los para o tipo desejado.\n",
    "idade = int(input(\"Digite sua idade: \"))\n",
    "print(f\"Você tem {idade} anos.\")"
   ]
  },
  {
   "cell_type": "markdown",
   "metadata": {},
   "source": [
    "## Operadores  em Python"
   ]
  },
  {
   "cell_type": "markdown",
   "metadata": {},
   "source": [
    "Os operadores são símbolos que representam operações matemáticas, comparações e lógicas. Eles são essenciais para manipular dados e tomar decisões em um programa.  \n",
    "\n",
    "Em Python, os operadores são divididos nas seguintes categorias:  \n",
    "\n",
    "### 1. Operadores Aritméticos  \n",
    "Utilizados para realizar operações matemáticas básicas.  \n",
    "\n",
    "| Operador | Descrição       | Exemplo (`a = 10, b = 3`) | Resultado |\n",
    "|----------|----------------|--------------------------|-----------|\n",
    "| `+`      | Adição         | `a + b`                  | `13`      |\n",
    "| `-`      | Subtração      | `a - b`                  | `7`       |\n",
    "| `*`      | Multiplicação  | `a * b`                  | `30`      |\n",
    "| `/`      | Divisão        | `a / b`                  | `3.3333`  |\n",
    "| `//`     | Divisão inteira | `a // b`                | `3`       |\n",
    "| `%`      | Módulo (resto) | `a % b`                  | `1`       |\n",
    "| `**`     | Exponenciação  | `a ** b`                 | `1000`    |\n",
    "\n",
    "---\n",
    "\n",
    "### 2. Operadores de Comparação  \n",
    "Usados para comparar valores e retornar `True` ou `False`.  \n",
    "\n",
    "| Operador | Descrição                  | Exemplo (`a = 10, b = 3`) | Resultado |\n",
    "|----------|----------------------------|--------------------------|-----------|\n",
    "| `==`     | Igualdade                   | `a == b`                 | `False`   |\n",
    "| `!=`     | Diferente                   | `a != b`                 | `True`    |\n",
    "| `>`      | Maior que                   | `a > b`                  | `True`    |\n",
    "| `<`      | Menor que                   | `a < b`                  | `False`   |\n",
    "| `>=`     | Maior ou igual a            | `a >= b`                 | `True`    |\n",
    "| `<=`     | Menor ou igual a            | `a <= b`                 | `False`   |\n",
    "\n",
    "---\n",
    "\n",
    "### 3. Operadores Lógicos  \n",
    "Utilizados para combinar expressões booleanas (`True` ou `False`).  \n",
    "\n",
    "| Operador | Descrição                | Exemplo (`x = True, y = False`) | Resultado |\n",
    "|----------|--------------------------|--------------------------------|-----------|\n",
    "| `and`    | Retorna `True` se ambas forem `True` | `x and y`  | `False`  |\n",
    "| `or`     | Retorna `True` se pelo menos uma for `True` | `x or y`  | `True`  |\n",
    "| `not`    | Inverte o valor booleano | `not x`   | `False`  |\n",
    "\n",
    "---\n",
    "\n",
    "### 4. Operadores de Atribuição  \n",
    "Usados para atribuir valores a variáveis, podendo incluir operações.  \n",
    "\n",
    "| Operador | Exemplo (`a = 10`) | Equivalente a |\n",
    "|----------|------------------|--------------|\n",
    "| `=`      | `a = 10`         | `a = 10`     |\n",
    "| `+=`     | `a += 2`         | `a = a + 2`  |\n",
    "| `-=`     | `a -= 2`         | `a = a - 2`  |\n",
    "| `*=`     | `a *= 2`         | `a = a * 2`  |\n",
    "| `/=`     | `a /= 2`         | `a = a / 2`  |\n",
    "| `//=`    | `a //= 2`        | `a = a // 2` |\n",
    "| `%=`     | `a %= 2`         | `a = a % 2`  |\n",
    "| `**=`    | `a **= 2`        | `a = a ** 2` |\n",
    "\n",
    "---\n",
    "\n",
    "### 5. Operadores de Identidade  \n",
    "Verificam se duas variáveis referenciam o mesmo objeto na memória.  \n",
    "\n",
    "| Operador | Descrição                                  | Exemplo (`a = [1, 2]`, `b = a`, `c = [1, 2]`) | Resultado |\n",
    "|----------|------------------------------------------|--------------------------------------------|-----------|\n",
    "| `is`     | Retorna `True` se forem o mesmo objeto  | `a is b`                                  | `True`    |\n",
    "| `is not` | Retorna `True` se forem objetos diferentes | `a is not c`                            | `True`    |\n",
    "\n",
    "---\n",
    "\n",
    "### 6. Operadores de Associação  \n",
    "Verificam se um valor está presente em uma sequência (listas, tuplas, strings, etc.).  \n",
    "\n",
    "| Operador | Descrição                                | Exemplo (`lista = [1, 2, 3]`) | Resultado |\n",
    "|----------|----------------------------------------|------------------------------|-----------|\n",
    "| `in`     | Retorna `True` se o valor estiver presente | `2 in lista`               | `True`    |\n",
    "| `not in` | Retorna `True` se o valor não estiver presente | `5 not in lista`          | `True`    |\n",
    "\n",
    "---\n",
    "\n",
    "Esses operadores são fundamentais para escrever expressões eficientes e lógicas em Python, permitindo a criação de algoritmos mais poderosos e flexíveis.\n"
   ]
  },
  {
   "cell_type": "markdown",
   "metadata": {},
   "source": [
    "## Estruturas de Controle"
   ]
  },
  {
   "cell_type": "markdown",
   "metadata": {},
   "source": [
    "As estruturas de controle são fundamentais para definir o fluxo de execução de um programa. Elas podem ser classificadas em três categorias principais:  \n",
    "\n",
    "### 1. Estruturas Condicionais\n",
    "\n",
    "Permitem a tomada de decisões com base em condições específicas.  \n",
    "\n",
    "- `if`, `elif`, `else` (Python)  \n",
    "- `switch-case` (disponível em outras linguagens, mas não em Python)  \n",
    "\n",
    "### 2. Estruturas de Repetição (Laços)  \n",
    "\n",
    "Utilizadas para repetir blocos de código enquanto uma condição for verdadeira.  \n",
    "\n",
    "- `for` (laço com contador ou iterável)  \n",
    "- `while` (laço baseado em condição)  \n",
    "\n",
    "### 3. Estruturas de Controle de Fluxo  \n",
    "\n",
    "Permitem modificar o fluxo normal de execução do programa.  \n",
    "\n",
    "- `break` (interrompe um laço)  \n",
    "- `continue` (pula para a próxima iteração do laço)  \n",
    "- `pass` (usado como um marcador para código ainda não implementado)  \n",
    "\n",
    "Essas estruturas tornam os programas mais flexíveis, organizados e eficientes, permitindo o desenvolvimento de algoritmos mais dinâmicos.\n"
   ]
  },
  {
   "cell_type": "markdown",
   "metadata": {},
   "source": [
    "### Explorando Estruturas Condicionais"
   ]
  },
  {
   "cell_type": "code",
   "execution_count": 37,
   "metadata": {},
   "outputs": [
    {
     "name": "stdout",
     "output_type": "stream",
     "text": [
      "Você é maior de idade.\n"
     ]
    }
   ],
   "source": [
    "if idade >= 18:\n",
    "    print(\"Você é maior de idade.\")\n",
    "else:\n",
    "    print(\"Você é menor de idade.\")\n"
   ]
  },
  {
   "cell_type": "markdown",
   "metadata": {},
   "source": [
    "Tambem podemos utilizar a estrutura `if` para verificar se um número é par ou ímpar.\n",
    "\n",
    "\n"
   ]
  },
  {
   "cell_type": "code",
   "execution_count": 38,
   "metadata": {},
   "outputs": [
    {
     "name": "stdout",
     "output_type": "stream",
     "text": [
      "O número é ímpar.\n"
     ]
    }
   ],
   "source": [
    "numero = int(input(\"Digite um número: \"))\n",
    "\n",
    "if numero % 2 == 0:\n",
    "    print(\"O número é par.\")\n",
    "else:\n",
    "    print(\"O número é ímpar.\")"
   ]
  },
  {
   "cell_type": "markdown",
   "metadata": {},
   "source": [
    "Podemos adicionar mais de uma condição utilizando a estrutura `elif`."
   ]
  },
  {
   "cell_type": "code",
   "execution_count": 39,
   "metadata": {},
   "outputs": [
    {
     "name": "stdout",
     "output_type": "stream",
     "text": [
      "O número é positivo.\n"
     ]
    }
   ],
   "source": [
    "if numero > 0:\n",
    "    print(\"O número é positivo.\")\n",
    "elif numero < 0:\n",
    "    print(\"O número é negativo.\")\n",
    "else:\n",
    "    print(\"O número é zero.\")\n"
   ]
  },
  {
   "cell_type": "markdown",
   "metadata": {},
   "source": [
    "Em resumo, if, elif e else são usados para tomar decisões no código com base em condições lógicas:\n",
    "\n",
    "- `if`: Executa um bloco de código se a condição for verdadeira.\n",
    "- `elif` (`else if`): Permite testar múltiplas condições, sendo executado apenas se a condição anterior for falsa.\n",
    "- `else`: Define um bloco de código que será executado caso nenhuma das condições anteriores seja atendida.\n",
    "\n",
    "\n",
    "\n"
   ]
  },
  {
   "cell_type": "markdown",
   "metadata": {},
   "source": [
    "## Desenvolvendo o Pensamento Lógico\n"
   ]
  },
  {
   "cell_type": "markdown",
   "metadata": {},
   "source": [
    "O raciocínio lógico é uma habilidade essencial na programação, pois permite resolver problemas de forma estruturada e eficiente. Quanto mais você praticar, mais fácil será enxergar padrões, criar soluções e transformar ideias em código funcional.  \n",
    "\n",
    "Uma das melhores formas de aprimorar essa habilidade é aplicando operadores e estruturas de controle para construir algoritmos mais complexos e inteligentes.  \n",
    "\n",
    "Vamos colocar isso em prática com um problema interessante:  \n",
    "\n",
    "> **Desafio:**  \n",
    "> \"Faça um programa que receba três notas de um aluno, calcule a média ponderada e exiba se o aluno foi aprovado ou reprovado. Considere que a média ponderada é a soma das notas multiplicadas pelos seus respectivos pesos, dividida pela soma dos pesos.\"  \n",
    "\n",
    "Para resolver esse problema, vamos seguir uma abordagem lógica, quebrando-o em partes menores e compreensíveis. Dessa forma, garantimos que cada etapa do algoritmo seja clara e bem estruturada.  \n",
    "\n",
    "\n",
    "\n",
    "\n",
    "\n",
    "\n",
    "\n",
    "\n"
   ]
  },
  {
   "cell_type": "markdown",
   "metadata": {},
   "source": [
    "Então, vamos começar montando uma sequência de passos para resolver o problema:"
   ]
  },
  {
   "cell_type": "markdown",
   "metadata": {},
   "source": [
    "1. Receber as notas do aluno:"
   ]
  },
  {
   "cell_type": "code",
   "execution_count": 40,
   "metadata": {},
   "outputs": [],
   "source": [
    "# Receber as notas do aluno:\n",
    "nota1 = float(input(\"Digite a primeira nota: \"))\n",
    "nota2 = float(input(\"Digite a segunda nota: \"))\n",
    "nota3 = float(input(\"Digite a terceira nota: \"))"
   ]
  },
  {
   "cell_type": "markdown",
   "metadata": {},
   "source": [
    "2. Calcular a média ponderada:"
   ]
  },
  {
   "cell_type": "code",
   "execution_count": 41,
   "metadata": {},
   "outputs": [],
   "source": [
    "# Calcular a média ponderada:\n",
    "media = (nota1 * 0.2) + (nota2 * 0.3) + (nota3 * 0.5)"
   ]
  },
  {
   "cell_type": "markdown",
   "metadata": {},
   "source": [
    "3. Exibir se o aluno foi aprovado ou reprovado:"
   ]
  },
  {
   "cell_type": "code",
   "execution_count": 42,
   "metadata": {},
   "outputs": [
    {
     "name": "stdout",
     "output_type": "stream",
     "text": [
      "O aluno foi reprovado.\n"
     ]
    }
   ],
   "source": [
    "# Exibir se o aluno foi aprovado ou reprovado:\n",
    "if media >= 7:\n",
    "    print(\"O aluno foi aprovado.\")\n",
    "else:\n",
    "    print(\"O aluno foi reprovado.\")\n"
   ]
  },
  {
   "cell_type": "markdown",
   "metadata": {},
   "source": [
    "- Código completo:"
   ]
  },
  {
   "cell_type": "code",
   "execution_count": 1,
   "metadata": {},
   "outputs": [
    {
     "name": "stdout",
     "output_type": "stream",
     "text": [
      "O aluno foi aprovado.\n"
     ]
    }
   ],
   "source": [
    "# Receber as notas do aluno:\n",
    "nota1 = float(input(\"Digite a primeira nota: \"))\n",
    "nota2 = float(input(\"Digite a segunda nota: \"))\n",
    "nota3 = float(input(\"Digite a terceira nota: \"))\n",
    "\n",
    "# Calcular a média ponderada:\n",
    "# Usamos a multiplicação para ponderar as notas de acordo com o peso de cada uma\n",
    "# (pesos 2: 20% , 3: 30% e 5: 50%)\n",
    "media = (nota1 * 0.2) + (nota2 * 0.3) + (nota3 * 0.5)\n",
    "\n",
    "# Exibir se o aluno foi aprovado ou reprovado:\n",
    "if media >= 7:\n",
    "    print(\"O aluno foi aprovado.\")\n",
    "else:\n",
    "    print(\"O aluno foi reprovado.\")"
   ]
  },
  {
   "cell_type": "markdown",
   "metadata": {},
   "source": [
    "## Considerações Finais"
   ]
  },
  {
   "cell_type": "markdown",
   "metadata": {},
   "source": [
    "Podemos perceber que, ao quebrarmos o problema em partes menores, ficou muito mais fácil compreendê-lo e estruturar nossa solução. Esse é um princípio fundamental da lógica de programação: dividir um problema complexo em etapas simples e solucionáveis.  \n",
    "\n",
    "Com a prática, essa habilidade se torna natural, permitindo que você desenvolva algoritmos mais eficientes e bem organizados. Continue praticando, explorando novos desafios e aprimorando seu raciocínio lógico!\n",
    "\n",
    "### ⚠ Aviso sobre o Uso de IA na Resolução de Códigos  \n",
    "\n",
    "O uso de Inteligência Artificial pode ser uma ferramenta valiosa para aprender e desenvolver códigos, mas é importante utilizá-la com responsabilidade.  \n",
    "\n",
    "- **Aprenda com a IA, não dependa dela.** Use-a como suporte para entender conceitos, não como um atalho para evitar o raciocínio lógico.  \n",
    "- **Analise e teste o código gerado.** Nem sempre a IA fornecerá a melhor solução. É essencial revisar, compreender e adaptar o código às suas necessidades.  \n",
    "- **Desenvolva suas próprias habilidades.** Resolver problemas por conta própria fortalece o aprendizado e prepara você para desafios mais complexos.  \n",
    "\n",
    "> <b>Lembre-se:</b> <i>A IA pode ajudar, mas o verdadeiro conhecimento vem da prática e da dedicação!</i> "
   ]
  },
  {
   "cell_type": "markdown",
   "metadata": {},
   "source": [
    "## Estruturas de Repetição\n",
    "\n",
    "\n",
    "\n",
    "\n",
    "\n"
   ]
  },
  {
   "cell_type": "markdown",
   "metadata": {},
   "source": [
    "As estruturas de repetição (ou loops) são utilizadas na programação para executar um bloco de código várias vezes, de acordo com uma condição específica. Elas evitam a repetição manual do código, tornando os programas mais eficientes e organizados. "
   ]
  },
  {
   "cell_type": "markdown",
   "metadata": {},
   "source": [
    "### While (enquanto)\n",
    "\n",
    "\n",
    "\n",
    "\n",
    "\n"
   ]
  },
  {
   "cell_type": "markdown",
   "metadata": {},
   "source": [
    "O while é uma estrutura de repetição utilizada para executar um bloco de código **enquanto** uma determinada condição for verdadeira. Ele é útil quando não sabemos exatamente quantas vezes o loop será repetido, pois a condição é avaliada antes de cada iteração."
   ]
  },
  {
   "cell_type": "markdown",
   "metadata": {},
   "source": [
    "A estrutura do while é feita da seguinte forma:\n",
    "```python\n",
    "while condição:\n",
    "    # Código a ser executado\n",
    "    pass\n",
    "```\n",
    "vale lembrar que a condição é avaliada antes de cada iteração, então se a condição for falsa desde o início, o loop não será executado."
   ]
  },
  {
   "cell_type": "code",
   "execution_count": 7,
   "metadata": {},
   "outputs": [
    {
     "name": "stdout",
     "output_type": "stream",
     "text": [
      "0\n",
      "1\n",
      "2\n",
      "3\n",
      "4\n"
     ]
    }
   ],
   "source": [
    "# Exemplo: Vamos criar um loop que irá imprimir os números de 0 a 4\n",
    "\n",
    "# Inicializamos o contador com 0\n",
    "contador = 0\n",
    "\n",
    "# Enquanto o contador for menor que 5, o loop será executado\n",
    "while contador < 5:\n",
    "    print(contador)\n",
    "    # Incrementa o contador em 1 a cada iteração\n",
    "    contador += 1\n",
    "\n"
   ]
  },
  {
   "cell_type": "markdown",
   "metadata": {},
   "source": [
    "> **Importante:** Se a condição nunca for falsa, o loop while entrará em loop infinito. Portanto, é essencial garantir que a condição seja alterada em algum momento dentro do loop para evitar isso."
   ]
  },
  {
   "cell_type": "markdown",
   "metadata": {},
   "source": [
    "Exemplo de loop infinito:\n",
    "\n",
    "```python\n",
    "while True:\n",
    "    print(\"Loop infinito!\")\n",
    "```\n",
    "\n",
    "\n"
   ]
  },
  {
   "cell_type": "markdown",
   "metadata": {},
   "source": [
    "É importante tambem saber usar a função `break` para interromper o loop em qualquer momento, e a função `continue` para pular uma iteração do loop."
   ]
  },
  {
   "cell_type": "markdown",
   "metadata": {},
   "source": [
    "###"
   ]
  },
  {
   "cell_type": "markdown",
   "metadata": {},
   "source": [
    "O `break` é uma palavra-chave usada dentro de loops (while, for, do while) para interromper a execução do loop imediatamente, independentemente da condição definida. Ele é útil quando queremos sair de um loop com base em alguma verificação dentro do bloco de código.\n",
    "\n"
   ]
  },
  {
   "cell_type": "code",
   "execution_count": 4,
   "metadata": {},
   "outputs": [
    {
     "name": "stdout",
     "output_type": "stream",
     "text": [
      "0\n",
      "1\n",
      "2\n",
      "3\n",
      "4\n"
     ]
    }
   ],
   "source": [
    "# Exemplo de uso da função break:\n",
    "\n",
    "# O loop irá imprimir os números de 0 a 4, pois o loop será interrompido quando i for igual a 5\n",
    "i = 0\n",
    "while i < 10:\n",
    "    if i == 5:\n",
    "        # Interrompe o loop quando i for igual a 5\n",
    "        break\n",
    "    print(i)\n",
    "    i += 1\n",
    "\n"
   ]
  },
  {
   "cell_type": "markdown",
   "metadata": {},
   "source": [
    "O `continue` é uma palavra-chave usada dentro de loops (while, for, do while) para pular a execução da iteração atual e continuar com a próxima. Ele é útil quando queremos ignorar uma iteração específica dentro do loop."
   ]
  },
  {
   "cell_type": "code",
   "execution_count": 6,
   "metadata": {},
   "outputs": [
    {
     "name": "stdout",
     "output_type": "stream",
     "text": [
      "0\n",
      "1\n",
      "2\n",
      "3\n",
      "4\n",
      "6\n",
      "7\n",
      "8\n",
      "9\n"
     ]
    }
   ],
   "source": [
    "# Exemplo de uso da função continue:\n",
    "\n",
    "# O loop irá imprimir os números de 0 a 4, pois o loop será interrompido quando i for igual a 5\n",
    "i = 0\n",
    "while i < 10:\n",
    "    if i == 5:\n",
    "        # Pula a execução da iteração atual, ou seja, não irá imprimir o número 5\n",
    "        i += 1\n",
    "        continue\n",
    "    print(i)\n",
    "    i += 1"
   ]
  },
  {
   "cell_type": "markdown",
   "metadata": {},
   "source": [
    "#### While - Exercício Bônus Resolvido \n",
    " \n",
    "\n",
    "\n",
    "\n",
    "\n"
   ]
  },
  {
   "cell_type": "code",
   "execution_count": 11,
   "metadata": {},
   "outputs": [
    {
     "name": "stdout",
     "output_type": "stream",
     "text": [
      "\n",
      "RELATÓRIO FINAL\n",
      "Carga restante do Gerador 1: 100\n",
      "Média de consumo do Gerador 1: 0\n",
      "Carga restante do Gerador 2: 100\n",
      "Média de consumo do Gerador 2: 0\n"
     ]
    }
   ],
   "source": [
    "# 1 - Declarar os geradores e variáveis de controle\n",
    "# 2 - Declarar dispositivos\n",
    "# 3 - Selecionar e verificar se o gerador está correto\n",
    "# 4 - Verificar se consumo <= carga do gerador\n",
    "# 5 - Verificar se os geradores estão sobrecarregados\n",
    "# 6 - Condicional para sair do loop (\"sair\" ou geradores 100%)\n",
    "# 7 - Calcular média de consumo de cada gerador\n",
    "# 8 - Imprimir o relatório final\n",
    "\n",
    "# Definição das cargas iniciais dos geradores (cada um começa com 100 de capacidade)\n",
    "gerador1_carga = 100 \n",
    "gerador2_carga = 100\n",
    "\n",
    "# Variáveis para acompanhar o consumo total de cada gerador\n",
    "gerador1_consumo_total = 0\n",
    "gerador2_consumo_total = 0\n",
    "\n",
    "# Contadores para saber quantos dispositivos foram conectados a cada gerador\n",
    "gerador1_contador = 0 \n",
    "gerador2_contador = 0\n",
    "\n",
    "\n",
    "# Loop infinito que só será interrompido quando o usuário desejar sair\n",
    "# ou quando ambos os geradores estiverem sobrecarregados\n",
    "while True:\n",
    "    # Solicita ao usuário o consumo do dispositivo\n",
    "    dispositivo_consumo = input('Digite o consumo do dispositivo (ou \"sair\" para encerrar):')\n",
    "    \n",
    "    # Verifica se o usuário digitou 'sair' para encerrar o programa\n",
    "    if dispositivo_consumo.lower() == 'sair':\n",
    "        break\n",
    "\n",
    "    # Converte a entrada do usuário para número inteiro\n",
    "    dispositivo_consumo = int(dispositivo_consumo)\n",
    "    \n",
    "    # Verifica se o consumo é válido (não pode ser negativo)\n",
    "    if dispositivo_consumo < 0:\n",
    "        print('Informe um valor valido para o consumo!')\n",
    "        continue       # Volta para o início do loop\n",
    "\n",
    "    # Solicita ao usuário escolher em qual gerador conectar o dispositivo\n",
    "    gerador_escolhido = int(input('Escolha o gerador (1 ou 2): '))\n",
    "\n",
    "    # Se escolheu o gerador 1\n",
    "    if gerador_escolhido == 1:\n",
    "        # Verifica se o gerador 1 suporta o consumo do dispositivo\n",
    "        if dispositivo_consumo <= gerador1_carga:\n",
    "            gerador1_carga -= dispositivo_consumo              # Diminui a carga disponível\n",
    "            gerador1_consumo_total += dispositivo_consumo      # Adiciona ao consumo total\n",
    "            gerador1_contador += 1                             # Incrementa o contador de dispositivos\n",
    "            print('Dispositivo conectado ao Gerador 1 com sucesso!')\n",
    "            print(f'Carga restante: {gerador1_carga}')\n",
    "        else:\n",
    "            print('O consumo excede a carga do Gerador 1.')\n",
    "\n",
    "    # Se escolheu o gerador 2\n",
    "    elif gerador_escolhido == 2:\n",
    "        # Verifica se o gerador 2 suporta o consumo do dispositivo\n",
    "        if dispositivo_consumo <= gerador2_carga:\n",
    "            gerador2_carga -= dispositivo_consumo              # Diminui a carga disponível\n",
    "            gerador2_consumo_total += dispositivo_consumo      # Adiciona ao consumo total\n",
    "            gerador2_contador += 1                             # Incrementa o contador de dispositivos\n",
    "            print('Dispositivo conectado ao Gerador 2 com sucesso!')\n",
    "            print(f'Carga restante: {gerador2_carga}')\n",
    "    else: \n",
    "        print('Gerador incorreto, escolha entra 1 ou 2!')\n",
    "        continue    # Volta para o início do loop\n",
    "\n",
    "    # Verifica se ambos os geradores estão sem carga disponível\n",
    "    if gerador1_carga <= 0 and gerador2_carga <= 0:\n",
    "        print('Ambos os geradores estão sobrecarregados')\n",
    "        break \n",
    "\n",
    "# Calcula a média de consumo do gerador 1\n",
    "# Se nenhum dispositivo foi conectado, a média é 0\n",
    "if gerador1_contador > 0:\n",
    "    media_gerador1 = gerador1_consumo_total / gerador1_contador\n",
    "else:\n",
    "    media_gerador1 = 0 \n",
    "\n",
    "# Calcula a média de consumo do gerador 2\n",
    "# Se nenhum dispositivo foi conectado, a média é 0\n",
    "if gerador2_contador > 0:\n",
    "    media_gerador2 = gerador2_consumo_total / gerador2_contador\n",
    "else:\n",
    "    media_gerador2 = 0\n",
    "\n",
    "# Exibe o relatório final com as informações de cada gerador\n",
    "print('\\nRELATÓRIO FINAL')\n",
    "print(f'Carga restante do Gerador 1: {gerador1_carga}')\n",
    "print(f'Média de consumo do Gerador 1: {media_gerador1}')\n",
    "print(f'Carga restante do Gerador 2: {gerador2_carga}')\n",
    "print(f'Média de consumo do Gerador 2: {media_gerador2}')\n"
   ]
  },
  {
   "cell_type": "markdown",
   "metadata": {},
   "source": [
    "### For (para)"
   ]
  },
  {
   "cell_type": "markdown",
   "metadata": {},
   "source": [
    "O `for` é uma estrutura de repetição utilizada para percorrer uma sequência de valores, como listas, intervalos numéricos e até caracteres de uma string. Ele é ideal quando sabemos e **determinamos quantas vezes queremos repetir um bloco de código.**\n",
    "\n",
    "A estrutura do for é feita da seguinte forma:\n",
    "```python\n",
    "for item in sequência:\n",
    "    # Código a ser executado\n",
    "    pass\n",
    "```\n",
    "\n",
    "A sequência pode ser uma lista, um intervalo numérico ou uma string. "
   ]
  },
  {
   "cell_type": "code",
   "execution_count": 9,
   "metadata": {},
   "outputs": [
    {
     "name": "stdout",
     "output_type": "stream",
     "text": [
      "0\n",
      "1\n",
      "2\n",
      "3\n",
      "4\n"
     ]
    }
   ],
   "source": [
    "# Exemplo de uso do for: Vamos criar um loop que irá imprimir os números de 0 a 4\n",
    "\n",
    "# O range(5) cria uma sequência de números de 0 a 4 (5 não é incluido)\n",
    "for i in range(5):\n",
    "    print(i)"
   ]
  },
  {
   "cell_type": "markdown",
   "metadata": {},
   "source": [
    "## Resumo: `while` vs `for`\n",
    "\n",
    "### Estruturas de Repetição\n",
    "Tanto `while` quanto `for` são usados para repetir blocos de código, mas cada um tem características específicas que os tornam mais adequados para certas situações.\n",
    "\n",
    "---\n",
    "\n",
    "### `while`\n",
    "\n",
    "#### **Pontos Positivos**\n",
    "- Ideal quando **não sabemos** quantas vezes o loop deve rodar.\n",
    "- Permite loops baseados em **condições dinâmicas**.\n",
    "- Útil para loops que dependem de **entradas do usuário**.\n",
    "\n",
    "#### **Pontos Negativos**\n",
    "- Maior chance de **loop infinito** se a condição nunca for falsa.\n",
    "- Pode ser mais difícil de ler e depurar quando comparado ao `for`.\n",
    "- Requer um **controle manual** da variável de iteração.\n",
    "\n",
    "#### **Melhores Situações para Usar**\n",
    "- Leitura de arquivos linha por linha.\n",
    "- Espera por um evento específico.\n",
    "- Pedir entrada do usuário até que uma condição seja atendida.\n",
    "\n",
    "#### **Exemplo**\n",
    "```python\n",
    "x = 0\n",
    "while x < 5:\n",
    "    print(f\"Valor de x: {x}\")\n",
    "    x += 1\n",
    "```\n",
    "\n",
    "---\n",
    "\n",
    "### `for`\n",
    "\n",
    "#### **Pontos Positivos**\n",
    "- Ideal quando **sabemos** quantas vezes o loop deve rodar.\n",
    "- Melhor para iterar sobre **listas, strings, ranges** e outras sequências.\n",
    "- Código mais **limpo e legível** do que um `while` equivalente.\n",
    "\n",
    "#### **Pontos Negativos**\n",
    "- Não é a melhor escolha para loops que exigem **verificações dinâmicas**.\n",
    "- Menos flexível para cenários onde a repetição depende de uma condição externa.\n",
    "\n",
    "#### **Melhores Situações para Usar**\n",
    "- Percorrer listas, strings ou ranges.\n",
    "- Laços com um número fixo de iterações.\n",
    "- Executar uma ação repetitiva por um **número pré-determinado** de vezes.\n",
    "\n",
    "#### **Exemplo**\n",
    "```python\n",
    "for i in range(5):\n",
    "    print(f\"Iteração {i}\")\n",
    "```\n",
    "\n",
    "---\n",
    "\n",
    "### ⚠️ **Cuidados Gerais**\n",
    "- **Evite loops infinitos!** Sempre garanta que a condição do `while` pode ser falsa em algum momento.\n",
    "- No `for`, **não altere a variável de iteração manualmente**, pois isso pode causar comportamentos inesperados.\n",
    "- Use `break` para sair do loop **quando necessário**, e `continue` para pular uma iteração específica.\n",
    "\n",
    "### **Resumo Final**\n",
    "| Estrutura | Melhor para | Controle de Fluxo | Facilidade de Leitura |\n",
    "|-----------|------------|------------------|------------------|\n",
    "| `while` | Condições dinâmicas | Difícil | Menos legível |\n",
    "| `for` | Número fixo de repetições | Fácil | Mais legível |\n",
    "\n",
    "Dependendo da necessidade, escolha a estrutura que **torna seu código mais eficiente e legível**! "
   ]
  },
  {
   "cell_type": "markdown",
   "metadata": {},
   "source": [
    "## Funções"
   ]
  },
  {
   "cell_type": "markdown",
   "metadata": {},
   "source": [
    "### 🔹 O que é uma Função?\n",
    "\n",
    "Uma função é um **bloco de código reutilizável** que realiza uma tarefa específica. Ela permite que você:\n",
    "\n",
    "- Organize melhor o código.\n",
    "- Evite repetição.\n",
    "- Separe a lógica em partes menores e mais compreensíveis.\n",
    "\n",
    "Funções são essenciais para a **modularização** e a **manutenção de programas maiores**.\n",
    "\n",
    "---\n",
    "\n",
    "### 🔹 Como uma Função é Definida?\n",
    "\n",
    "Para definir uma função em Python, usamos a palavra-chave `def` seguida do nome da função e, entre parênteses, os **parâmetros (se houver)**. Após os dois pontos `:`, escreve-se o bloco de instruções da função com indentação (recuo).\n",
    "\n",
    "A estrutura geral é:\n",
    "\n",
    "```python\n",
    "def nome_da_funcao(parâmetros):\n",
    "    # bloco de código\n",
    "    return resultado\n"
   ]
  },
  {
   "cell_type": "markdown",
   "metadata": {},
   "source": [
    "\n",
    "---\n",
    "\n",
    "### 🔹 O que são Parâmetros?\n",
    "\n",
    "Parâmetros são **variáveis que recebem valores** quando a função é chamada. Eles servem para enviar informações externas à função, tornando-a mais flexível e dinâmica.\n",
    "\n",
    "Tipos de parâmetros:\n",
    "\n",
    "- **Obrigatórios**: precisam ser informados na chamada da função.\n",
    "- **Opcionais (com valor padrão)**: possuem um valor pré-definido que será usado caso nenhum valor seja informado.\n",
    "- **Parâmetros variáveis**: permitem que a função receba um número indefinido de argumentos (ex: `*args`).\n",
    "\n",
    "---\n",
    "\n",
    "### 🔹 O que é um Argumento?\n",
    "\n",
    "Argumentos são os **valores reais** que são passados para os parâmetros no momento da chamada da função. Eles preenchem os parâmetros definidos e são usados dentro da função.\n",
    "\n",
    "---\n",
    "\n",
    "### 🔹 O que é o `return`?\n",
    "\n",
    "O `return` serve para **encerrar a execução da função** e, opcionalmente, **retornar um valor** para quem chamou a função. Ele permite que a função **produza um resultado** que pode ser armazenado ou utilizado em outras partes do programa.\n",
    "\n",
    "Características do `return`:\n",
    "\n",
    "- Pode retornar um único valor ou múltiplos valores.\n",
    "- Se não houver `return`, a função retorna `None` por padrão.\n",
    "- O `return` também pode ser usado para **encerrar a função antes do final**, caso uma condição seja satisfeita.\n",
    "\n",
    "---\n",
    "\n",
    "### 🔹 Por que usar funções?\n",
    "\n",
    "- **Organização**: divide o programa em partes menores.\n",
    "- **Reutilização**: permite reaproveitar código.\n",
    "- **Facilidade de testes**: facilita encontrar e corrigir erros.\n",
    "- **Legibilidade**: o programa fica mais fácil de entender.\n",
    "\n",
    "---\n",
    "\n",
    "### Conclusão\n",
    "\n",
    "Funções são fundamentais para qualquer linguagem de programação. Elas ajudam a criar **códigos limpos, reutilizáveis e modulares**, e são uma das principais ferramentas para tornar programas mais eficientes e escaláveis.\n"
   ]
  },
  {
   "cell_type": "markdown",
   "metadata": {},
   "source": [
    "## Exemplos de Funções:"
   ]
  },
  {
   "cell_type": "markdown",
   "metadata": {},
   "source": [
    "### Função sem parâmetro"
   ]
  },
  {
   "cell_type": "code",
   "execution_count": null,
   "metadata": {},
   "outputs": [],
   "source": [
    "def saudacao():\n",
    "    print(\"Olá, turma!\")\n",
    "\n",
    "saudacao()  # Chamada da função\n"
   ]
  },
  {
   "cell_type": "markdown",
   "metadata": {},
   "source": [
    "### Função com parâmetro"
   ]
  },
  {
   "cell_type": "code",
   "execution_count": 1,
   "metadata": {},
   "outputs": [
    {
     "name": "stdout",
     "output_type": "stream",
     "text": [
      "5\n"
     ]
    }
   ],
   "source": [
    "def somar(a, b):\n",
    "    resultado = a + b\n",
    "    return resultado\n",
    "\n",
    "print(somar(2, 3))  # Saída: 5\n"
   ]
  },
  {
   "cell_type": "markdown",
   "metadata": {},
   "source": [
    "### Parâmetros com valor padrão"
   ]
  },
  {
   "cell_type": "code",
   "execution_count": 3,
   "metadata": {},
   "outputs": [
    {
     "name": "stdout",
     "output_type": "stream",
     "text": [
      "Bem-vindo, Aluno!\n",
      "Bem-vindo, Lucas!\n"
     ]
    }
   ],
   "source": [
    "def apresentar(nome=\"Aluno\"):\n",
    "    print(f\"Bem-vindo, {nome}!\")\n",
    "\n",
    "apresentar()         # Saída: Bem-vindo, Aluno!\n",
    "apresentar(\"Lucas\")  # Saída: Bem-vindo, Lucas!\n"
   ]
  },
  {
   "cell_type": "markdown",
   "metadata": {},
   "source": [
    "### Retorno de mutiplos valores"
   ]
  },
  {
   "cell_type": "code",
   "execution_count": 4,
   "metadata": {},
   "outputs": [
    {
     "name": "stdout",
     "output_type": "stream",
     "text": [
      "15\n",
      "5\n"
     ]
    }
   ],
   "source": [
    "def operacoes(a, b):\n",
    "    return a + b, a - b\n",
    "\n",
    "soma, subtracao = operacoes(10, 5)\n",
    "print(soma)        # 15\n",
    "print(subtracao)   # 5\n"
   ]
  },
  {
   "cell_type": "markdown",
   "metadata": {},
   "source": [
    "## Variáveis Globais em Funções\n",
    "\n",
    "### 🔹 O que é uma variável global?\n",
    "\n",
    "É uma variável **declarada fora de qualquer função**, acessível em todo o código.\n",
    "\n",
    "### 🔹 Como usar uma variável global dentro de uma função?\n",
    "\n",
    "Você precisa usar a palavra-chave `global` **dentro da função** para indicar que está usando (ou modificando) a variável global, e não criando uma nova local."
   ]
  },
  {
   "cell_type": "markdown",
   "metadata": {},
   "source": [
    "### Escopo de variáveis"
   ]
  },
  {
   "cell_type": "code",
   "execution_count": 5,
   "metadata": {},
   "outputs": [
    {
     "name": "stdout",
     "output_type": "stream",
     "text": [
      "5\n",
      "10\n"
     ]
    }
   ],
   "source": [
    "x = 10  # global\n",
    "\n",
    "def mostrar():\n",
    "    x = 5  # local\n",
    "    print(x)\n",
    "\n",
    "mostrar()  # Saída: 5\n",
    "print(x)   # Saída: 10\n"
   ]
  },
  {
   "cell_type": "markdown",
   "metadata": {},
   "source": [
    "### Variáveis globais "
   ]
  },
  {
   "cell_type": "code",
   "execution_count": 6,
   "metadata": {},
   "outputs": [
    {
     "name": "stdout",
     "output_type": "stream",
     "text": [
      "Contador dentro da função: 1\n",
      "Contador dentro da função: 2\n",
      "Contador fora da função: 2\n"
     ]
    }
   ],
   "source": [
    "contador = 0  # variável global\n",
    "\n",
    "def incrementar():\n",
    "    global contador  # diz que vamos usar/modificar a variável global\n",
    "    contador += 1\n",
    "    print(f\"Contador dentro da função: {contador}\")\n",
    "\n",
    "incrementar()  # Saída: Contador dentro da função: 1\n",
    "incrementar()  # Saída: Contador dentro da função: 2\n",
    "\n",
    "print(f\"Contador fora da função: {contador}\")  # Saída: 2\n"
   ]
  },
  {
   "cell_type": "markdown",
   "metadata": {},
   "source": []
  },
  {
   "cell_type": "markdown",
   "metadata": {},
   "source": [
    "\n"
   ]
  }
 ],
 "metadata": {
  "kernelspec": {
   "display_name": "Python 3",
   "language": "python",
   "name": "python3"
  },
  "language_info": {
   "codemirror_mode": {
    "name": "ipython",
    "version": 3
   },
   "file_extension": ".py",
   "mimetype": "text/x-python",
   "name": "python",
   "nbconvert_exporter": "python",
   "pygments_lexer": "ipython3",
   "version": "3.10.12"
  }
 },
 "nbformat": 4,
 "nbformat_minor": 2
}
