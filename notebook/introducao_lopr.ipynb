{
 "cells": [
  {
   "cell_type": "markdown",
   "metadata": {},
   "source": [
    "# LÓGICA DE PROGRAMAÇÃO"
   ]
  },
  {
   "cell_type": "markdown",
   "metadata": {},
   "source": [
    "## Introdução ao Python"
   ]
  },
  {
   "cell_type": "markdown",
   "metadata": {},
   "source": [
    "Python é uma linguagem de programação de alto nível, projetada com foco na simplicidade e legibilidade, o que a torna fácil de aprender e utilizar. Por ser uma linguagem interpretada, seu código é executado linha por linha, o que facilita a depuração e torna o processo de desenvolvimento mais ágil e eficiente. Graças a essas características, Python se tornou uma escolha popular entre iniciantes e desenvolvedores experientes em diversos campos, como ciência de dados, desenvolvimento web, automação e muito mais.  \n",
    "\n",
    "Se você deseja aprofundar seus conhecimentos, explore a documentação oficial de Python através do link abaixo:\n",
    "\n",
    "> [Documentação oficial do Python](https://docs.python.org/pt-br/3.13/)\n"
   ]
  },
  {
   "cell_type": "markdown",
   "metadata": {},
   "source": [
    "## Tipos de Dados Primitivos"
   ]
  },
  {
   "cell_type": "markdown",
   "metadata": {},
   "source": [
    "- `int` - números inteiros\n",
    "- `float` - números decimais\n",
    "- `str` - strings (cadeias de caracteres)\n",
    "- `bool` - booleanos (true ou false)"
   ]
  },
  {
   "cell_type": "markdown",
   "metadata": {},
   "source": [
    "O python é uma linguagem de tipagem dinâmica, o que significa que o tipo de uma variável é determinado no momento da atribuição. Ademais, cada variável pode ser reatribuída com um novo valor de qualquer tipo. "
   ]
  },
  {
   "cell_type": "code",
   "execution_count": 32,
   "metadata": {},
   "outputs": [
    {
     "data": {
      "text/plain": [
       "bool"
      ]
     },
     "execution_count": 32,
     "metadata": {},
     "output_type": "execute_result"
    }
   ],
   "source": [
    "# Exemplo:\n",
    "a = 10 # a é um inteiro\n",
    "a = \"Olá, mundo!\" # a agora é uma string\n",
    "a = 3.14 # a agora é um float\n",
    "a = True # a agora é um booleano\n",
    "\n",
    "\n",
    "# Podemos verificar o tipo de uma variável com a função `type()`\n",
    "type(a)\n"
   ]
  },
  {
   "cell_type": "markdown",
   "metadata": {},
   "source": [
    "## Entrada e Saída de Dados"
   ]
  },
  {
   "cell_type": "markdown",
   "metadata": {},
   "source": [
    "- `input()` - função que recebe a entrada do usuário. Por padrão, o valor retornado é uma string.\n",
    "- `print()` - função que exibe a saída do programa, pode ser utilizada para exibir mensagens, resultados e outras informações.\n",
    "\n"
   ]
  },
  {
   "cell_type": "code",
   "execution_count": 33,
   "metadata": {},
   "outputs": [
    {
     "name": "stdout",
     "output_type": "stream",
     "text": [
      "Olá, Alex!\n"
     ]
    }
   ],
   "source": [
    "# Exemplo:\n",
    "nome = input(\"Digite seu nome: \")\n",
    "print(\"Olá, \" + nome + \"!\") "
   ]
  },
  {
   "cell_type": "markdown",
   "metadata": {},
   "source": [
    "Existem outras formas de formatar a saída de dados, como:\n",
    "- `f-string` - utiliza o símbolo `f` antes da string e coloca as variáveis entre chaves.\n",
    "- `format()` - utiliza o método `format()` para inserir os valores nas posições desejadas.\n",
    "- `%` - utiliza o operador `%` para formatar a string.\n"
   ]
  },
  {
   "cell_type": "code",
   "execution_count": 34,
   "metadata": {},
   "outputs": [
    {
     "name": "stdout",
     "output_type": "stream",
     "text": [
      "Olá, João! Você tem 25 anos.\n",
      "Olá, João! Você tem 25 anos.\n",
      "Olá, João! Você tem 25 anos.\n"
     ]
    }
   ],
   "source": [
    "# Exemplo:\n",
    "nome = \"João\"\n",
    "idade = 25\n",
    "print(f\"Olá, {nome}! Você tem {idade} anos.\")\n",
    "print(\"Olá, {}! Você tem {} anos.\".format(nome, idade))\n",
    "print(\"Olá, %s! Você tem %d anos.\" % (nome, idade))\n"
   ]
  },
  {
   "cell_type": "markdown",
   "metadata": {},
   "source": [
    "> Eu particulamente gosto mais da utilização de f-string, pois é mais simples e de fácil leitura."
   ]
  },
  {
   "cell_type": "code",
   "execution_count": 35,
   "metadata": {},
   "outputs": [
    {
     "name": "stdout",
     "output_type": "stream",
     "text": [
      "Olá, João! Você tem 25 anos.\n"
     ]
    }
   ],
   "source": [
    "print(f\"Olá, {nome}! Você tem {idade} anos.\")"
   ]
  },
  {
   "cell_type": "markdown",
   "metadata": {},
   "source": [
    "Tambem podemos utilizar a função `input()` para receber valores numéricos e convertê-los para o tipo desejado.\n",
    "Para isso, podemos utilizar as funções `int()`, `float()` e `bool()`, que convertem o valor para o tipo inteiro, flutuante e booleano, respectivamente."
   ]
  },
  {
   "cell_type": "code",
   "execution_count": 36,
   "metadata": {},
   "outputs": [
    {
     "name": "stdout",
     "output_type": "stream",
     "text": [
      "Você tem 18 anos.\n"
     ]
    }
   ],
   "source": [
    "# Podemos utilizar a função `input()` para receber valores numéricos e convertê-los para o tipo desejado.\n",
    "idade = int(input(\"Digite sua idade: \"))\n",
    "print(f\"Você tem {idade} anos.\")"
   ]
  },
  {
   "cell_type": "markdown",
   "metadata": {},
   "source": [
    "## Operadores  em Python"
   ]
  },
  {
   "cell_type": "markdown",
   "metadata": {},
   "source": [
    "Os operadores são símbolos que representam operações matemáticas, comparações e lógicas. Eles são essenciais para manipular dados e tomar decisões em um programa.  \n",
    "\n",
    "Em Python, os operadores são divididos nas seguintes categorias:  \n",
    "\n",
    "### 1. Operadores Aritméticos  \n",
    "Utilizados para realizar operações matemáticas básicas.  \n",
    "\n",
    "| Operador | Descrição       | Exemplo (`a = 10, b = 3`) | Resultado |\n",
    "|----------|----------------|--------------------------|-----------|\n",
    "| `+`      | Adição         | `a + b`                  | `13`      |\n",
    "| `-`      | Subtração      | `a - b`                  | `7`       |\n",
    "| `*`      | Multiplicação  | `a * b`                  | `30`      |\n",
    "| `/`      | Divisão        | `a / b`                  | `3.3333`  |\n",
    "| `//`     | Divisão inteira | `a // b`                | `3`       |\n",
    "| `%`      | Módulo (resto) | `a % b`                  | `1`       |\n",
    "| `**`     | Exponenciação  | `a ** b`                 | `1000`    |\n",
    "\n",
    "---\n",
    "\n",
    "### 2. Operadores de Comparação  \n",
    "Usados para comparar valores e retornar `True` ou `False`.  \n",
    "\n",
    "| Operador | Descrição                  | Exemplo (`a = 10, b = 3`) | Resultado |\n",
    "|----------|----------------------------|--------------------------|-----------|\n",
    "| `==`     | Igualdade                   | `a == b`                 | `False`   |\n",
    "| `!=`     | Diferente                   | `a != b`                 | `True`    |\n",
    "| `>`      | Maior que                   | `a > b`                  | `True`    |\n",
    "| `<`      | Menor que                   | `a < b`                  | `False`   |\n",
    "| `>=`     | Maior ou igual a            | `a >= b`                 | `True`    |\n",
    "| `<=`     | Menor ou igual a            | `a <= b`                 | `False`   |\n",
    "\n",
    "---\n",
    "\n",
    "### 3. Operadores Lógicos  \n",
    "Utilizados para combinar expressões booleanas (`True` ou `False`).  \n",
    "\n",
    "| Operador | Descrição                | Exemplo (`x = True, y = False`) | Resultado |\n",
    "|----------|--------------------------|--------------------------------|-----------|\n",
    "| `and`    | Retorna `True` se ambas forem `True` | `x and y`  | `False`  |\n",
    "| `or`     | Retorna `True` se pelo menos uma for `True` | `x or y`  | `True`  |\n",
    "| `not`    | Inverte o valor booleano | `not x`   | `False`  |\n",
    "\n",
    "---\n",
    "\n",
    "### 4. Operadores de Atribuição  \n",
    "Usados para atribuir valores a variáveis, podendo incluir operações.  \n",
    "\n",
    "| Operador | Exemplo (`a = 10`) | Equivalente a |\n",
    "|----------|------------------|--------------|\n",
    "| `=`      | `a = 10`         | `a = 10`     |\n",
    "| `+=`     | `a += 2`         | `a = a + 2`  |\n",
    "| `-=`     | `a -= 2`         | `a = a - 2`  |\n",
    "| `*=`     | `a *= 2`         | `a = a * 2`  |\n",
    "| `/=`     | `a /= 2`         | `a = a / 2`  |\n",
    "| `//=`    | `a //= 2`        | `a = a // 2` |\n",
    "| `%=`     | `a %= 2`         | `a = a % 2`  |\n",
    "| `**=`    | `a **= 2`        | `a = a ** 2` |\n",
    "\n",
    "---\n",
    "\n",
    "### 5. Operadores de Identidade  \n",
    "Verificam se duas variáveis referenciam o mesmo objeto na memória.  \n",
    "\n",
    "| Operador | Descrição                                  | Exemplo (`a = [1, 2]`, `b = a`, `c = [1, 2]`) | Resultado |\n",
    "|----------|------------------------------------------|--------------------------------------------|-----------|\n",
    "| `is`     | Retorna `True` se forem o mesmo objeto  | `a is b`                                  | `True`    |\n",
    "| `is not` | Retorna `True` se forem objetos diferentes | `a is not c`                            | `True`    |\n",
    "\n",
    "---\n",
    "\n",
    "### 6. Operadores de Associação  \n",
    "Verificam se um valor está presente em uma sequência (listas, tuplas, strings, etc.).  \n",
    "\n",
    "| Operador | Descrição                                | Exemplo (`lista = [1, 2, 3]`) | Resultado |\n",
    "|----------|----------------------------------------|------------------------------|-----------|\n",
    "| `in`     | Retorna `True` se o valor estiver presente | `2 in lista`               | `True`    |\n",
    "| `not in` | Retorna `True` se o valor não estiver presente | `5 not in lista`          | `True`    |\n",
    "\n",
    "---\n",
    "\n",
    "Esses operadores são fundamentais para escrever expressões eficientes e lógicas em Python, permitindo a criação de algoritmos mais poderosos e flexíveis.\n"
   ]
  },
  {
   "cell_type": "markdown",
   "metadata": {},
   "source": [
    "## Estruturas de Controle"
   ]
  },
  {
   "cell_type": "markdown",
   "metadata": {},
   "source": [
    "As estruturas de controle são fundamentais para definir o fluxo de execução de um programa. Elas podem ser classificadas em três categorias principais:  \n",
    "\n",
    "### 1. Estruturas Condicionais\n",
    "\n",
    "Permitem a tomada de decisões com base em condições específicas.  \n",
    "\n",
    "- `if`, `elif`, `else` (Python)  \n",
    "- `switch-case` (disponível em outras linguagens, mas não em Python)  \n",
    "\n",
    "### 2. Estruturas de Repetição (Laços)  \n",
    "\n",
    "Utilizadas para repetir blocos de código enquanto uma condição for verdadeira.  \n",
    "\n",
    "- `for` (laço com contador ou iterável)  \n",
    "- `while` (laço baseado em condição)  \n",
    "\n",
    "### 3. Estruturas de Controle de Fluxo  \n",
    "\n",
    "Permitem modificar o fluxo normal de execução do programa.  \n",
    "\n",
    "- `break` (interrompe um laço)  \n",
    "- `continue` (pula para a próxima iteração do laço)  \n",
    "- `pass` (usado como um marcador para código ainda não implementado)  \n",
    "\n",
    "Essas estruturas tornam os programas mais flexíveis, organizados e eficientes, permitindo o desenvolvimento de algoritmos mais dinâmicos.\n"
   ]
  },
  {
   "cell_type": "markdown",
   "metadata": {},
   "source": [
    "### Explorando Estruturas Condicionais"
   ]
  },
  {
   "cell_type": "code",
   "execution_count": 37,
   "metadata": {},
   "outputs": [
    {
     "name": "stdout",
     "output_type": "stream",
     "text": [
      "Você é maior de idade.\n"
     ]
    }
   ],
   "source": [
    "if idade >= 18:\n",
    "    print(\"Você é maior de idade.\")\n",
    "else:\n",
    "    print(\"Você é menor de idade.\")\n"
   ]
  },
  {
   "cell_type": "markdown",
   "metadata": {},
   "source": [
    "Tambem podemos utilizar a estrutura `if` para verificar se um número é par ou ímpar.\n",
    "\n",
    "\n"
   ]
  },
  {
   "cell_type": "code",
   "execution_count": 38,
   "metadata": {},
   "outputs": [
    {
     "name": "stdout",
     "output_type": "stream",
     "text": [
      "O número é ímpar.\n"
     ]
    }
   ],
   "source": [
    "numero = int(input(\"Digite um número: \"))\n",
    "\n",
    "if numero % 2 == 0:\n",
    "    print(\"O número é par.\")\n",
    "else:\n",
    "    print(\"O número é ímpar.\")"
   ]
  },
  {
   "cell_type": "markdown",
   "metadata": {},
   "source": [
    "Podemos adicionar mais de uma condição utilizando a estrutura `elif`."
   ]
  },
  {
   "cell_type": "code",
   "execution_count": 39,
   "metadata": {},
   "outputs": [
    {
     "name": "stdout",
     "output_type": "stream",
     "text": [
      "O número é positivo.\n"
     ]
    }
   ],
   "source": [
    "if numero > 0:\n",
    "    print(\"O número é positivo.\")\n",
    "elif numero < 0:\n",
    "    print(\"O número é negativo.\")\n",
    "else:\n",
    "    print(\"O número é zero.\")\n"
   ]
  },
  {
   "cell_type": "markdown",
   "metadata": {},
   "source": [
    "Em resumo, if, elif e else são usados para tomar decisões no código com base em condições lógicas:\n",
    "\n",
    "- `if`: Executa um bloco de código se a condição for verdadeira.\n",
    "- `elif` (`else if`): Permite testar múltiplas condições, sendo executado apenas se a condição anterior for falsa.\n",
    "- `else`: Define um bloco de código que será executado caso nenhuma das condições anteriores seja atendida.\n",
    "\n",
    "\n",
    "\n"
   ]
  },
  {
   "cell_type": "markdown",
   "metadata": {},
   "source": [
    "## Desenvolvendo o Pensamento Lógico\n"
   ]
  },
  {
   "cell_type": "markdown",
   "metadata": {},
   "source": [
    "O raciocínio lógico é uma habilidade essencial na programação, pois permite resolver problemas de forma estruturada e eficiente. Quanto mais você praticar, mais fácil será enxergar padrões, criar soluções e transformar ideias em código funcional.  \n",
    "\n",
    "Uma das melhores formas de aprimorar essa habilidade é aplicando operadores e estruturas de controle para construir algoritmos mais complexos e inteligentes.  \n",
    "\n",
    "Vamos colocar isso em prática com um problema interessante:  \n",
    "\n",
    "> **Desafio:**  \n",
    "> \"Faça um programa que receba três notas de um aluno, calcule a média ponderada e exiba se o aluno foi aprovado ou reprovado. Considere que a média ponderada é a soma das notas multiplicadas pelos seus respectivos pesos, dividida pela soma dos pesos.\"  \n",
    "\n",
    "Para resolver esse problema, vamos seguir uma abordagem lógica, quebrando-o em partes menores e compreensíveis. Dessa forma, garantimos que cada etapa do algoritmo seja clara e bem estruturada.  \n",
    "\n",
    "\n",
    "\n",
    "\n",
    "\n",
    "\n",
    "\n",
    "\n"
   ]
  },
  {
   "cell_type": "markdown",
   "metadata": {},
   "source": [
    "Então, vamos começar montando uma sequência de passos para resolver o problema:"
   ]
  },
  {
   "cell_type": "markdown",
   "metadata": {},
   "source": [
    "1. Receber as notas do aluno:"
   ]
  },
  {
   "cell_type": "code",
   "execution_count": 40,
   "metadata": {},
   "outputs": [],
   "source": [
    "# Receber as notas do aluno:\n",
    "nota1 = float(input(\"Digite a primeira nota: \"))\n",
    "nota2 = float(input(\"Digite a segunda nota: \"))\n",
    "nota3 = float(input(\"Digite a terceira nota: \"))"
   ]
  },
  {
   "cell_type": "markdown",
   "metadata": {},
   "source": [
    "2. Calcular a média ponderada:"
   ]
  },
  {
   "cell_type": "code",
   "execution_count": 41,
   "metadata": {},
   "outputs": [],
   "source": [
    "# Calcular a média ponderada:\n",
    "media = (nota1 * 0.2) + (nota2 * 0.3) + (nota3 * 0.5)"
   ]
  },
  {
   "cell_type": "markdown",
   "metadata": {},
   "source": [
    "3. Exibir se o aluno foi aprovado ou reprovado:"
   ]
  },
  {
   "cell_type": "code",
   "execution_count": 42,
   "metadata": {},
   "outputs": [
    {
     "name": "stdout",
     "output_type": "stream",
     "text": [
      "O aluno foi reprovado.\n"
     ]
    }
   ],
   "source": [
    "# Exibir se o aluno foi aprovado ou reprovado:\n",
    "if media >= 7:\n",
    "    print(\"O aluno foi aprovado.\")\n",
    "else:\n",
    "    print(\"O aluno foi reprovado.\")\n"
   ]
  },
  {
   "cell_type": "markdown",
   "metadata": {},
   "source": [
    "- Código completo:"
   ]
  },
  {
   "cell_type": "code",
   "execution_count": 1,
   "metadata": {},
   "outputs": [
    {
     "name": "stdout",
     "output_type": "stream",
     "text": [
      "O aluno foi aprovado.\n"
     ]
    }
   ],
   "source": [
    "# Receber as notas do aluno:\n",
    "nota1 = float(input(\"Digite a primeira nota: \"))\n",
    "nota2 = float(input(\"Digite a segunda nota: \"))\n",
    "nota3 = float(input(\"Digite a terceira nota: \"))\n",
    "\n",
    "# Calcular a média ponderada:\n",
    "# Usamos a multiplicação para ponderar as notas de acordo com o peso de cada uma\n",
    "# (pesos 2: 20% , 3: 30% e 5: 50%)\n",
    "media = (nota1 * 0.2) + (nota2 * 0.3) + (nota3 * 0.5)\n",
    "\n",
    "# Exibir se o aluno foi aprovado ou reprovado:\n",
    "if media >= 7:\n",
    "    print(\"O aluno foi aprovado.\")\n",
    "else:\n",
    "    print(\"O aluno foi reprovado.\")"
   ]
  },
  {
   "cell_type": "markdown",
   "metadata": {},
   "source": [
    "## Considerações Finais"
   ]
  },
  {
   "cell_type": "markdown",
   "metadata": {},
   "source": [
    "Podemos perceber que, ao quebrarmos o problema em partes menores, ficou muito mais fácil compreendê-lo e estruturar nossa solução. Esse é um princípio fundamental da lógica de programação: dividir um problema complexo em etapas simples e solucionáveis.  \n",
    "\n",
    "Com a prática, essa habilidade se torna natural, permitindo que você desenvolva algoritmos mais eficientes e bem organizados. Continue praticando, explorando novos desafios e aprimorando seu raciocínio lógico!\n",
    "\n",
    "### ⚠ Aviso sobre o Uso de IA na Resolução de Códigos  \n",
    "\n",
    "O uso de Inteligência Artificial pode ser uma ferramenta valiosa para aprender e desenvolver códigos, mas é importante utilizá-la com responsabilidade.  \n",
    "\n",
    "- **Aprenda com a IA, não dependa dela.** Use-a como suporte para entender conceitos, não como um atalho para evitar o raciocínio lógico.  \n",
    "- **Analise e teste o código gerado.** Nem sempre a IA fornecerá a melhor solução. É essencial revisar, compreender e adaptar o código às suas necessidades.  \n",
    "- **Desenvolva suas próprias habilidades.** Resolver problemas por conta própria fortalece o aprendizado e prepara você para desafios mais complexos.  \n",
    "\n",
    "> <b>Lembre-se:</b> <i>A IA pode ajudar, mas o verdadeiro conhecimento vem da prática e da dedicação!</i> "
   ]
  }
 ],
 "metadata": {
  "kernelspec": {
   "display_name": "Python 3",
   "language": "python",
   "name": "python3"
  },
  "language_info": {
   "codemirror_mode": {
    "name": "ipython",
    "version": 3
   },
   "file_extension": ".py",
   "mimetype": "text/x-python",
   "name": "python",
   "nbconvert_exporter": "python",
   "pygments_lexer": "ipython3",
   "version": "3.10.12"
  }
 },
 "nbformat": 4,
 "nbformat_minor": 2
}
